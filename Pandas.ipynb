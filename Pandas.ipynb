{
 "cells": [
  {
   "cell_type": "code",
   "execution_count": 54,
   "id": "b56dd34a",
   "metadata": {},
   "outputs": [],
   "source": [
    "import pandas as pd\n",
    "import os\n",
    "import numpy as np"
   ]
  },
  {
   "cell_type": "code",
   "execution_count": 31,
   "id": "76042c5e",
   "metadata": {},
   "outputs": [],
   "source": [
    "import pandas as pd\n",
    "\n",
    "#1.-----------------------------------------------------Get data from UL\n",
    "URL1 = \"https://vega.github.io/vega/data/airports.csv\"\n",
    "URL2 = \"https://vega.github.io/vega/data/flights-airport.csv\"\n",
    "airports = pd.read_csv(URL1)\n",
    "routes = pd.read_csv(URL2)\n",
    "\n",
    "#Save  data from as CSV\n",
    "airports.to_csv(os.getcwd() + \"\\\\SNAFormative\\\\data-raw\"+'\\\\airports.csv',index=False, header=True)\n",
    "routes.to_csv(os.getcwd() + \"\\\\SNAFormative\\\\data-raw\" + '\\\\routes.csv',index=False, header=True)"
   ]
  },
  {
   "cell_type": "code",
   "execution_count": 37,
   "id": "631aa953",
   "metadata": {},
   "outputs": [],
   "source": [
    "df = pd.read_csv(\".\\\\SNAFormative\\\\data-raw\\\\airports.csv\")"
   ]
  },
  {
   "cell_type": "code",
   "execution_count": 43,
   "id": "0ea22bab",
   "metadata": {},
   "outputs": [
    {
     "ename": "KeyError",
     "evalue": "\"None of ['iata'] are in the columns\"",
     "output_type": "error",
     "traceback": [
      "\u001b[1;31m---------------------------------------------------------------------------\u001b[0m",
      "\u001b[1;31mKeyError\u001b[0m                                  Traceback (most recent call last)",
      "Input \u001b[1;32mIn [43]\u001b[0m, in \u001b[0;36m<module>\u001b[1;34m\u001b[0m\n\u001b[1;32m----> 1\u001b[0m \u001b[43mdf\u001b[49m\u001b[38;5;241;43m.\u001b[39;49m\u001b[43mset_index\u001b[49m\u001b[43m(\u001b[49m\u001b[38;5;124;43m'\u001b[39;49m\u001b[38;5;124;43miata\u001b[39;49m\u001b[38;5;124;43m'\u001b[39;49m\u001b[43m,\u001b[49m\u001b[43m \u001b[49m\u001b[43minplace\u001b[49m\u001b[38;5;241;43m=\u001b[39;49m\u001b[38;5;28;43;01mTrue\u001b[39;49;00m\u001b[43m)\u001b[49m\n",
      "File \u001b[1;32m~\\Source\\SNAFormative\\lib\\site-packages\\pandas\\util\\_decorators.py:311\u001b[0m, in \u001b[0;36mdeprecate_nonkeyword_arguments.<locals>.decorate.<locals>.wrapper\u001b[1;34m(*args, **kwargs)\u001b[0m\n\u001b[0;32m    305\u001b[0m \u001b[38;5;28;01mif\u001b[39;00m \u001b[38;5;28mlen\u001b[39m(args) \u001b[38;5;241m>\u001b[39m num_allow_args:\n\u001b[0;32m    306\u001b[0m     warnings\u001b[38;5;241m.\u001b[39mwarn(\n\u001b[0;32m    307\u001b[0m         msg\u001b[38;5;241m.\u001b[39mformat(arguments\u001b[38;5;241m=\u001b[39marguments),\n\u001b[0;32m    308\u001b[0m         \u001b[38;5;167;01mFutureWarning\u001b[39;00m,\n\u001b[0;32m    309\u001b[0m         stacklevel\u001b[38;5;241m=\u001b[39mstacklevel,\n\u001b[0;32m    310\u001b[0m     )\n\u001b[1;32m--> 311\u001b[0m \u001b[38;5;28;01mreturn\u001b[39;00m func(\u001b[38;5;241m*\u001b[39margs, \u001b[38;5;241m*\u001b[39m\u001b[38;5;241m*\u001b[39mkwargs)\n",
      "File \u001b[1;32m~\\Source\\SNAFormative\\lib\\site-packages\\pandas\\core\\frame.py:5496\u001b[0m, in \u001b[0;36mDataFrame.set_index\u001b[1;34m(self, keys, drop, append, inplace, verify_integrity)\u001b[0m\n\u001b[0;32m   5493\u001b[0m                 missing\u001b[38;5;241m.\u001b[39mappend(col)\n\u001b[0;32m   5495\u001b[0m \u001b[38;5;28;01mif\u001b[39;00m missing:\n\u001b[1;32m-> 5496\u001b[0m     \u001b[38;5;28;01mraise\u001b[39;00m \u001b[38;5;167;01mKeyError\u001b[39;00m(\u001b[38;5;124mf\u001b[39m\u001b[38;5;124m\"\u001b[39m\u001b[38;5;124mNone of \u001b[39m\u001b[38;5;132;01m{\u001b[39;00mmissing\u001b[38;5;132;01m}\u001b[39;00m\u001b[38;5;124m are in the columns\u001b[39m\u001b[38;5;124m\"\u001b[39m)\n\u001b[0;32m   5498\u001b[0m \u001b[38;5;28;01mif\u001b[39;00m inplace:\n\u001b[0;32m   5499\u001b[0m     frame \u001b[38;5;241m=\u001b[39m \u001b[38;5;28mself\u001b[39m\n",
      "\u001b[1;31mKeyError\u001b[0m: \"None of ['iata'] are in the columns\""
     ]
    }
   ],
   "source": [
    "df.set_index('iata', inplace=True)"
   ]
  },
  {
   "cell_type": "code",
   "execution_count": 45,
   "id": "a42d3e0a",
   "metadata": {},
   "outputs": [
    {
     "data": {
      "text/plain": [
       "'FL'"
      ]
     },
     "execution_count": 45,
     "metadata": {},
     "output_type": "execute_result"
    }
   ],
   "source": [
    "df.loc['01J', 'state']"
   ]
  },
  {
   "cell_type": "code",
   "execution_count": 46,
   "id": "217057dd",
   "metadata": {},
   "outputs": [
    {
     "data": {
      "text/plain": [
       "iata\n",
       "00M    MS\n",
       "00R    TX\n",
       "00V    CO\n",
       "01G    NY\n",
       "01J    FL\n",
       "       ..\n",
       "ZEF    NC\n",
       "ZER    PA\n",
       "ZPH    FL\n",
       "ZUN    NM\n",
       "ZZV    OH\n",
       "Name: state, Length: 3376, dtype: object"
      ]
     },
     "execution_count": 46,
     "metadata": {},
     "output_type": "execute_result"
    }
   ],
   "source": [
    "df['state']"
   ]
  },
  {
   "cell_type": "code",
   "execution_count": 47,
   "id": "458ad9b2",
   "metadata": {},
   "outputs": [
    {
     "data": {
      "text/plain": [
       "(3376, 6)"
      ]
     },
     "execution_count": 47,
     "metadata": {},
     "output_type": "execute_result"
    }
   ],
   "source": [
    "df.shape"
   ]
  },
  {
   "cell_type": "code",
   "execution_count": 48,
   "id": "a92be3c9",
   "metadata": {},
   "outputs": [
    {
     "name": "stdout",
     "output_type": "stream",
     "text": [
      "     Name  Age             Job\n",
      "0    Fred   55  Data Scientist\n",
      "1  Rashid   34       Rock Star\n",
      "2  Nathan   46         Dustman\n",
      "3   Alice   35        Cow Poke\n"
     ]
    }
   ],
   "source": [
    "my_dict = {'Name':['Fred','Rashid','Nathan','Alice'],\n",
    "           'Age': [55,34,46,35],\n",
    "           'Job': ['Data Scientist', 'Rock Star', 'Dustman','Cow Poke']}\n",
    "\n",
    "my_df = pd.DataFrame(my_dict)\n",
    "print(my_df)"
   ]
  },
  {
   "cell_type": "code",
   "execution_count": 49,
   "id": "420a1e13",
   "metadata": {},
   "outputs": [
    {
     "name": "stdout",
     "output_type": "stream",
     "text": [
      "Rock Star\n"
     ]
    }
   ],
   "source": [
    "print(my_df.loc[1,'Job'])"
   ]
  },
  {
   "cell_type": "code",
   "execution_count": 52,
   "id": "eac758a6",
   "metadata": {},
   "outputs": [
    {
     "name": "stdout",
     "output_type": "stream",
     "text": [
      "     Name  Age             Job\n",
      "0    Fred   55  Data Scientist\n",
      "1  Rashid   34       Rock Star\n",
      "2  Nathan   46         Dustman\n",
      "0      Fred\n",
      "1    Rashid\n",
      "2    Nathan\n",
      "3     Alice\n",
      "Name: Name, dtype: object\n"
     ]
    }
   ],
   "source": [
    "print(my_df.loc[0:2,'Name':'Job']) #And we can specify whole rows and columns: print(my_df.loc[0,:])\n",
    "\n",
    "print(my_df.loc[:,'Name']) "
   ]
  },
  {
   "cell_type": "code",
   "execution_count": 55,
   "id": "14fd0830",
   "metadata": {},
   "outputs": [
    {
     "name": "stdout",
     "output_type": "stream",
     "text": [
      "     Name   Age             Job           email\n",
      "0    Fred  55.0  Data Scientist  fred@email.com\n",
      "1  Rashid   NaN       Rock Star         Missing\n",
      "2  Nathan  46.0         Dustman   nat@email.com\n",
      "3   Alice  35.0        Cow Poke              NA\n"
     ]
    }
   ],
   "source": [
    "my_df['email'] = ['fred@email.com','Missing','nat@email.com','NA']\n",
    "my_df.loc[1,'Age'] = np.NaN\n",
    "print(my_df)"
   ]
  },
  {
   "cell_type": "code",
   "execution_count": 58,
   "id": "724bffc7",
   "metadata": {},
   "outputs": [],
   "source": [
    "my_df.replace('NA',np.nan,inplace=True)\n",
    "my_df.replace('Missing',np.nan,inplace=True)"
   ]
  },
  {
   "cell_type": "code",
   "execution_count": 59,
   "id": "2b63e1e5",
   "metadata": {},
   "outputs": [
    {
     "data": {
      "text/html": [
       "<div>\n",
       "<style scoped>\n",
       "    .dataframe tbody tr th:only-of-type {\n",
       "        vertical-align: middle;\n",
       "    }\n",
       "\n",
       "    .dataframe tbody tr th {\n",
       "        vertical-align: top;\n",
       "    }\n",
       "\n",
       "    .dataframe thead th {\n",
       "        text-align: right;\n",
       "    }\n",
       "</style>\n",
       "<table border=\"1\" class=\"dataframe\">\n",
       "  <thead>\n",
       "    <tr style=\"text-align: right;\">\n",
       "      <th></th>\n",
       "      <th>Name</th>\n",
       "      <th>Age</th>\n",
       "      <th>Job</th>\n",
       "      <th>email</th>\n",
       "    </tr>\n",
       "  </thead>\n",
       "  <tbody>\n",
       "    <tr>\n",
       "      <th>0</th>\n",
       "      <td>Fred</td>\n",
       "      <td>55.0</td>\n",
       "      <td>Data Scientist</td>\n",
       "      <td>fred@email.com</td>\n",
       "    </tr>\n",
       "    <tr>\n",
       "      <th>1</th>\n",
       "      <td>Rashid</td>\n",
       "      <td>NaN</td>\n",
       "      <td>Rock Star</td>\n",
       "      <td>NaN</td>\n",
       "    </tr>\n",
       "    <tr>\n",
       "      <th>2</th>\n",
       "      <td>Nathan</td>\n",
       "      <td>46.0</td>\n",
       "      <td>Dustman</td>\n",
       "      <td>nat@email.com</td>\n",
       "    </tr>\n",
       "    <tr>\n",
       "      <th>3</th>\n",
       "      <td>Alice</td>\n",
       "      <td>35.0</td>\n",
       "      <td>Cow Poke</td>\n",
       "      <td>NaN</td>\n",
       "    </tr>\n",
       "  </tbody>\n",
       "</table>\n",
       "</div>"
      ],
      "text/plain": [
       "     Name   Age             Job           email\n",
       "0    Fred  55.0  Data Scientist  fred@email.com\n",
       "1  Rashid   NaN       Rock Star             NaN\n",
       "2  Nathan  46.0         Dustman   nat@email.com\n",
       "3   Alice  35.0        Cow Poke             NaN"
      ]
     },
     "execution_count": 59,
     "metadata": {},
     "output_type": "execute_result"
    }
   ],
   "source": [
    "my_df"
   ]
  },
  {
   "cell_type": "code",
   "execution_count": 60,
   "id": "62893f79",
   "metadata": {},
   "outputs": [
    {
     "data": {
      "text/html": [
       "<div>\n",
       "<style scoped>\n",
       "    .dataframe tbody tr th:only-of-type {\n",
       "        vertical-align: middle;\n",
       "    }\n",
       "\n",
       "    .dataframe tbody tr th {\n",
       "        vertical-align: top;\n",
       "    }\n",
       "\n",
       "    .dataframe thead th {\n",
       "        text-align: right;\n",
       "    }\n",
       "</style>\n",
       "<table border=\"1\" class=\"dataframe\">\n",
       "  <thead>\n",
       "    <tr style=\"text-align: right;\">\n",
       "      <th></th>\n",
       "      <th>Name</th>\n",
       "      <th>Age</th>\n",
       "      <th>Job</th>\n",
       "      <th>email</th>\n",
       "    </tr>\n",
       "  </thead>\n",
       "  <tbody>\n",
       "    <tr>\n",
       "      <th>0</th>\n",
       "      <td>Fred</td>\n",
       "      <td>55.0</td>\n",
       "      <td>Data Scientist</td>\n",
       "      <td>fred@email.com</td>\n",
       "    </tr>\n",
       "    <tr>\n",
       "      <th>2</th>\n",
       "      <td>Nathan</td>\n",
       "      <td>46.0</td>\n",
       "      <td>Dustman</td>\n",
       "      <td>nat@email.com</td>\n",
       "    </tr>\n",
       "  </tbody>\n",
       "</table>\n",
       "</div>"
      ],
      "text/plain": [
       "     Name   Age             Job           email\n",
       "0    Fred  55.0  Data Scientist  fred@email.com\n",
       "2  Nathan  46.0         Dustman   nat@email.com"
      ]
     },
     "execution_count": 60,
     "metadata": {},
     "output_type": "execute_result"
    }
   ],
   "source": [
    "my_df.dropna()"
   ]
  },
  {
   "cell_type": "code",
   "execution_count": 61,
   "id": "6a0c1013",
   "metadata": {},
   "outputs": [
    {
     "data": {
      "text/html": [
       "<div>\n",
       "<style scoped>\n",
       "    .dataframe tbody tr th:only-of-type {\n",
       "        vertical-align: middle;\n",
       "    }\n",
       "\n",
       "    .dataframe tbody tr th {\n",
       "        vertical-align: top;\n",
       "    }\n",
       "\n",
       "    .dataframe thead th {\n",
       "        text-align: right;\n",
       "    }\n",
       "</style>\n",
       "<table border=\"1\" class=\"dataframe\">\n",
       "  <thead>\n",
       "    <tr style=\"text-align: right;\">\n",
       "      <th></th>\n",
       "      <th>Name</th>\n",
       "      <th>Age</th>\n",
       "      <th>Job</th>\n",
       "      <th>email</th>\n",
       "    </tr>\n",
       "  </thead>\n",
       "  <tbody>\n",
       "    <tr>\n",
       "      <th>0</th>\n",
       "      <td>Fred</td>\n",
       "      <td>55.0</td>\n",
       "      <td>Data Scientist</td>\n",
       "      <td>fred@email.com</td>\n",
       "    </tr>\n",
       "    <tr>\n",
       "      <th>1</th>\n",
       "      <td>Rashid</td>\n",
       "      <td>NaN</td>\n",
       "      <td>Rock Star</td>\n",
       "      <td>NaN</td>\n",
       "    </tr>\n",
       "    <tr>\n",
       "      <th>2</th>\n",
       "      <td>Nathan</td>\n",
       "      <td>46.0</td>\n",
       "      <td>Dustman</td>\n",
       "      <td>nat@email.com</td>\n",
       "    </tr>\n",
       "    <tr>\n",
       "      <th>3</th>\n",
       "      <td>Alice</td>\n",
       "      <td>35.0</td>\n",
       "      <td>Cow Poke</td>\n",
       "      <td>NaN</td>\n",
       "    </tr>\n",
       "  </tbody>\n",
       "</table>\n",
       "</div>"
      ],
      "text/plain": [
       "     Name   Age             Job           email\n",
       "0    Fred  55.0  Data Scientist  fred@email.com\n",
       "1  Rashid   NaN       Rock Star             NaN\n",
       "2  Nathan  46.0         Dustman   nat@email.com\n",
       "3   Alice  35.0        Cow Poke             NaN"
      ]
     },
     "execution_count": 61,
     "metadata": {},
     "output_type": "execute_result"
    }
   ],
   "source": [
    "my_df"
   ]
  },
  {
   "cell_type": "code",
   "execution_count": 62,
   "id": "5205672d",
   "metadata": {},
   "outputs": [
    {
     "name": "stdout",
     "output_type": "stream",
     "text": [
      "0    False\n",
      "1    False\n",
      "2     True\n",
      "3     True\n",
      "dtype: bool\n"
     ]
    }
   ],
   "source": [
    "mask = (my_df['Name'] == 'Nathan') | (my_df['Job'] == 'Cow Poke') \n",
    "print(mask)"
   ]
  },
  {
   "cell_type": "code",
   "execution_count": 63,
   "id": "bd1db943",
   "metadata": {},
   "outputs": [
    {
     "name": "stdout",
     "output_type": "stream",
     "text": [
      "      Name  Age        Job\n",
      "1   Rashid   34  Rock Star\n",
      "4  Georgia   35  Rock Star\n",
      "7      Ali   36  Rock Star\n"
     ]
    }
   ],
   "source": [
    "my_dict = {'Name':['Fred','Rashid','Nathan','Alice','Georgia','Oaklynn','Pete','Ali'],\n",
    "           'Age': [55,34,46,35,35,56,46,36],\n",
    "           'Job': ['Data Scientist', 'Rock Star', 'Dustman','Cow Poke','Rock Star','Data Scientist','Cow Poke','Rock Star']}\n",
    "\n",
    "my_df = pd.DataFrame(my_dict)\n",
    "my_group = my_df.groupby(['Job'])\n",
    "my_group.get_group('Rock Star')\n",
    "print(my_group.get_group('Rock Star'))"
   ]
  },
  {
   "cell_type": "code",
   "execution_count": null,
   "id": "aa2ad47e",
   "metadata": {},
   "outputs": [],
   "source": []
  }
 ],
 "metadata": {
  "kernelspec": {
   "display_name": "SNAFormative",
   "language": "python",
   "name": "snaformative"
  },
  "language_info": {
   "codemirror_mode": {
    "name": "ipython",
    "version": 3
   },
   "file_extension": ".py",
   "mimetype": "text/x-python",
   "name": "python",
   "nbconvert_exporter": "python",
   "pygments_lexer": "ipython3",
   "version": "3.10.1"
  }
 },
 "nbformat": 4,
 "nbformat_minor": 5
}
